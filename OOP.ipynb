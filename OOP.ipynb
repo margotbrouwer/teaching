{
 "cells": [
  {
   "cell_type": "markdown",
   "metadata": {},
   "source": [
    "# Object Oriented Programming in Python\n",
    "There are different ways of structuring a program, with python you can use many of them:"
   ]
  },
  {
   "cell_type": "markdown",
   "metadata": {},
   "source": [
    "The simplest way is **scripting**, where you just put commands one after another."
   ]
  },
  {
   "cell_type": "code",
   "execution_count": 3,
   "metadata": {
    "collapsed": false
   },
   "outputs": [
    {
     "name": "stdout",
     "output_type": "stream",
     "text": [
      "Hello world!\n"
     ]
    }
   ],
   "source": [
    "start = \"Hello\"\n",
    "end = \"world!\"\n",
    "print(start, end)"
   ]
  },
  {
   "cell_type": "markdown",
   "metadata": {},
   "source": [
    "When programs get larger, it's natural to put reusable code into functions, which leads us to\n",
    "**procedural programming**."
   ]
  },
  {
   "cell_type": "code",
   "execution_count": 1,
   "metadata": {
    "collapsed": false
   },
   "outputs": [
    {
     "name": "stdout",
     "output_type": "stream",
     "text": [
      "Hello world!\n"
     ]
    }
   ],
   "source": [
    "def hello_world():\n",
    "    start = \"Hello\"\n",
    "    end = \"world!\"\n",
    "    return start + \" \" + end\n",
    "\n",
    "print(hello_world())"
   ]
  },
  {
   "cell_type": "markdown",
   "metadata": {},
   "source": [
    "It often becomes useful to group a number of variables that are always used together, like the **struct** in C."
   ]
  },
  {
   "cell_type": "code",
   "execution_count": 3,
   "metadata": {
    "collapsed": false
   },
   "outputs": [
    {
     "name": "stdout",
     "output_type": "stream",
     "text": [
      "{'z': 0.4, 'y': 1.2999999999999998, 'x': 1.1}\n"
     ]
    }
   ],
   "source": [
    "def move(position, velocity):\n",
    "    position['x'] += velocity['vx']\n",
    "    position['y'] += velocity['vy']\n",
    "    position['z'] += velocity['vz']\n",
    "    return position\n",
    "\n",
    "position = {'x': 0.1, 'y': 2.3, 'z': 0.4}\n",
    "velocity = {'vx': 1., 'vy': -1., 'vz': 0.}\n",
    "\n",
    "new_position = move(position, velocity)\n",
    "print(new_position)"
   ]
  },
  {
   "cell_type": "markdown",
   "metadata": {},
   "source": [
    "The next step is to group both variables and functions together and that is how we get **object oriented programming**."
   ]
  },
  {
   "cell_type": "code",
   "execution_count": 12,
   "metadata": {
    "collapsed": false
   },
   "outputs": [
    {
     "name": "stdout",
     "output_type": "stream",
     "text": [
      "Hello world!\n"
     ]
    }
   ],
   "source": [
    "class HelloWorld:\n",
    "    def __init__(self, start, end=\"world!\"):\n",
    "        self.start = start\n",
    "        self.end = end\n",
    "        \n",
    "    def message(self):\n",
    "        return self.start + \" \" + self.end\n",
    "    \n",
    "    def say_hello(self):\n",
    "        print(self.message())\n",
    "\n",
    "hw = HelloWorld(\"Hello\")\n",
    "hw.say_hello()"
   ]
  },
  {
   "cell_type": "markdown",
   "metadata": {},
   "source": [
    "##Classes and Objects\n",
    "First and foremost, it is important to understand the difference between a **class** and an **object**.\n",
    "A class is a general template or description of what can be done. \n",
    "So let's say we define a new class **postdoc**, which is a template for something that has a name and can do research."
   ]
  },
  {
   "cell_type": "code",
   "execution_count": 9,
   "metadata": {
    "collapsed": true
   },
   "outputs": [],
   "source": [
    "class PostDoc:\n",
    "    def __init__(self, name):\n",
    "        self.name = name\n",
    "        \n",
    "    def do_research(self):\n",
    "        print(self.name, \"is working hard...\")"
   ]
  },
  {
   "cell_type": "markdown",
   "metadata": {},
   "source": [
    "In itself, this class doesn't do anything, we first need to make one or more **object**s using this class. We create an instance of the class."
   ]
  },
  {
   "cell_type": "code",
   "execution_count": 11,
   "metadata": {
    "collapsed": false
   },
   "outputs": [
    {
     "name": "stdout",
     "output_type": "stream",
     "text": [
      "Lucie is working hard...\n",
      "Magnus is working hard...\n"
     ]
    }
   ],
   "source": [
    "lucie = PostDoc(\"Lucie\")\n",
    "magnus = PostDoc(\"Magnus\")\n",
    "lucie.do_research()\n",
    "magnus.do_research()"
   ]
  },
  {
   "cell_type": "markdown",
   "metadata": {},
   "source": [
    "## Inheritance\n",
    "Once you start writing more classes and using various objects, you may find that groups of classes often have things in common, like similar functions or variables. It is then usually a good idea to first define a superclass and let your other classes inherit from that class."
   ]
  },
  {
   "cell_type": "code",
   "execution_count": 19,
   "metadata": {
    "collapsed": true
   },
   "outputs": [],
   "source": [
    "class Researcher:\n",
    "    def __init__(self, name):\n",
    "        self.name = name\n",
    "        \n",
    "    def do_research(self):\n",
    "        print(self.name, \"is working hard...\")\n",
    "\n",
    "class PostDoc(Researcher):\n",
    "    pass\n",
    "\n",
    "class PhD(Researcher):\n",
    "    \n",
    "    def add_supervisor(self, supervisor):\n",
    "        self.supervisor = supervisor\n",
    "        \n",
    "    def do_research(self):\n",
    "        print(self.name, \"askes\", self.supervisor.name, \"what to do.\")\n",
    "        super().do_research()\n",
    "\n",
    "class Professor(Researcher):\n",
    "    def __init__(self, *args, **kwargs):\n",
    "        super().__init__(*args, **kwargs)\n",
    "        self.phds = []\n",
    "    \n",
    "    def hire_phd(self, phd):\n",
    "        phd.add_supervisor(self)\n",
    "        self.phds.append(phd)\n",
    "    \n",
    "    def do_research(self):\n",
    "        for phd in self.phds:\n",
    "            print(self.name, \"tells\", phd.name, \"to start working.\")\n",
    "            phd.do_research()"
   ]
  },
  {
   "cell_type": "code",
   "execution_count": 20,
   "metadata": {
    "collapsed": false
   },
   "outputs": [
    {
     "name": "stdout",
     "output_type": "stream",
     "text": [
      "Lucie is working hard...\n",
      "Magnus is working hard...\n",
      "Edwin askes Simon what to do.\n",
      "Edwin is working hard...\n"
     ]
    }
   ],
   "source": [
    "lucie = PostDoc(\"Lucie\")\n",
    "magnus = PostDoc(\"Magnus\")\n",
    "edwin = PhD(\"Edwin\")\n",
    "simon = Professor(\"Simon\")\n",
    "simon.hire_phd(edwin)\n",
    "\n",
    "lucie.do_research()\n",
    "magnus.do_research()\n",
    "edwin.do_research()"
   ]
  },
  {
   "cell_type": "code",
   "execution_count": 21,
   "metadata": {
    "collapsed": false
   },
   "outputs": [
    {
     "name": "stdout",
     "output_type": "stream",
     "text": [
      "Simon tells Edwin to start working.\n",
      "Edwin askes Simon what to do.\n",
      "Edwin is working hard...\n"
     ]
    }
   ],
   "source": [
    "simon.do_research()"
   ]
  }
 ],
 "metadata": {
  "kernelspec": {
   "display_name": "Python 3",
   "language": "python",
   "name": "python3"
  },
  "language_info": {
   "codemirror_mode": {
    "name": "ipython",
    "version": 3
   },
   "file_extension": ".py",
   "mimetype": "text/x-python",
   "name": "python",
   "nbconvert_exporter": "python",
   "pygments_lexer": "ipython3",
   "version": "3.4.3"
  }
 },
 "nbformat": 4,
 "nbformat_minor": 0
}
