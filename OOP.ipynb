{
 "cells": [
  {
   "cell_type": "markdown",
   "metadata": {},
   "source": [
    "Object Oriented Programming in Python\n",
    "===\n",
    "There are different ways of structuring a program, with python you can use many of them:"
   ]
  },
  {
   "cell_type": "markdown",
   "metadata": {},
   "source": [
    "The simplest way is **scripting**, where you just put commands one after another."
   ]
  },
  {
   "cell_type": "code",
   "execution_count": 3,
   "metadata": {
    "collapsed": false
   },
   "outputs": [
    {
     "name": "stdout",
     "output_type": "stream",
     "text": [
      "Hello world!\n"
     ]
    }
   ],
   "source": [
    "start = \"Hello\"\n",
    "end = \"world!\"\n",
    "print(start, end)"
   ]
  },
  {
   "cell_type": "markdown",
   "metadata": {},
   "source": [
    "When programs get larger, it's natural to put reusable code into functions, which leads us to\n",
    "**procedural programming**"
   ]
  },
  {
   "cell_type": "code",
   "execution_count": 1,
   "metadata": {
    "collapsed": false
   },
   "outputs": [
    {
     "name": "stdout",
     "output_type": "stream",
     "text": [
      "Hello world!\n"
     ]
    }
   ],
   "source": [
    "def hello_world():\n",
    "    start = \"Hello\"\n",
    "    end = \"world!\"\n",
    "    return start + \" \" + end\n",
    "\n",
    "print(hello_world())"
   ]
  },
  {
   "cell_type": "markdown",
   "metadata": {},
   "source": [
    "It often becomes useful to group a number of variables that are always used together, like the **struct** in C."
   ]
  },
  {
   "cell_type": "code",
   "execution_count": 3,
   "metadata": {
    "collapsed": false
   },
   "outputs": [
    {
     "name": "stdout",
     "output_type": "stream",
     "text": [
      "{'z': 0.4, 'y': 1.2999999999999998, 'x': 1.1}\n"
     ]
    }
   ],
   "source": [
    "def move(position, velocity):\n",
    "    position['x'] += velocity['vx']\n",
    "    position['y'] += velocity['vy']\n",
    "    position['z'] += velocity['vz']\n",
    "    return position\n",
    "\n",
    "position = {'x': 0.1, 'y': 2.3, 'z': 0.4}\n",
    "velocity = {'vx': 1., 'vy': -1., 'vz': 0.}\n",
    "\n",
    "new_position = move(position, velocity)\n",
    "print(new_position)"
   ]
  },
  {
   "cell_type": "markdown",
   "metadata": {},
   "source": []
  }
 ],
 "metadata": {
  "kernelspec": {
   "display_name": "Python 3",
   "language": "python",
   "name": "python3"
  },
  "language_info": {
   "codemirror_mode": {
    "name": "ipython",
    "version": 3
   },
   "file_extension": ".py",
   "mimetype": "text/x-python",
   "name": "python",
   "nbconvert_exporter": "python",
   "pygments_lexer": "ipython3",
   "version": "3.4.3"
  }
 },
 "nbformat": 4,
 "nbformat_minor": 0
}
